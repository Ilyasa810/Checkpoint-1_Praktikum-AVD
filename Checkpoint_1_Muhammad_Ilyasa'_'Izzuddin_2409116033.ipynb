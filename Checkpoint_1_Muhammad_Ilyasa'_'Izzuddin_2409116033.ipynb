{
  "nbformat": 4,
  "nbformat_minor": 0,
  "metadata": {
    "colab": {
      "provenance": []
    },
    "kernelspec": {
      "name": "python3",
      "display_name": "Python 3"
    },
    "language_info": {
      "name": "python"
    }
  },
  "cells": [
    {
      "cell_type": "markdown",
      "source": [
        "# **BUSINESS UNDERSTANDING**"
      ],
      "metadata": {
        "id": "0proARPLfwqB"
      }
    },
    {
      "cell_type": "markdown",
      "source": [
        "Nama : Muhammad Ilyasa' 'Izzuddin\n",
        "\n",
        "NIM: 2409116033\n",
        "\n",
        "Praktikum Analitik dan Visualisasi Data\n",
        "\n",
        "Dataset: UEFA EURO 2024 - Players\n"
      ],
      "metadata": {
        "id": "WikgMDAjgOVh"
      }
    },
    {
      "cell_type": "markdown",
      "source": [
        "### BUSINESS OBJECTVES\n",
        "\n",
        "Tujuan utama dari dataset ini adalah untuk mengetahui dan memahami para pemain yang berparitisipasi di UEFA EURO 2024 di Jerman. dataset ini berdasarkan dari web Transfermarkt.com. Hal ini meliputi, Nama pemain, posisi pemain, umur pemain, klub pemain, tinggi pemain, kaki dominan, jumlah penampilan internasional, jumlah gol internasional, nilai pasar, dan negara asal.\n",
        "\n",
        "\n"
      ],
      "metadata": {
        "id": "3NNlqW5ogaeo"
      }
    },
    {
      "cell_type": "markdown",
      "source": [
        "### ACCESS SITUATION\n",
        "\n",
        "situasi yang mendasari analisis ini adalah dunia sepakbola yang semakin berkembang, dan diadakannnya kompetisi sepakbola yang diadakan 4 tahun sekali yaitu UEFA Euro 2024 yang diadakan di Jerman, serta perubahan atau regenerasi dari pemain-pemain tim nasional yang dipanggil untuk mewakili negara kebangsaannya bertanding di UEFA EURO 2024, menjadi alasan tersendiri mengapa adanya dataset ini dan juga untuk memiliki pemahaman mengenai hal-hal tentang pemain-pemain yang bertanding di UEFA EURO 2024. Oleh karena itu, analisis informasi tentang pemain-pemain yang dipanggil tim nasional cukup penting untuk mengidentifikasi bahkan mengetahui apakah pemain tersebut pernah tampil dinegaranya."
      ],
      "metadata": {
        "id": "XIY-IWyhi9-b"
      }
    },
    {
      "cell_type": "markdown",
      "source": [
        "### DATA MINING GOALS\n",
        "\n",
        " tujuan dari dataset ini adalah untuk memperoleh wawasan yang dapat bermanfaat bagi berbagai pihak, termasuk klub sepak bola, pemandu bakat, dan analis. Beberapa tujuan utama meliputi pemodelan nilai pasar pemain berdasarkan atribut seperti usia dan pengalaman, analisis distribusi pemain berdasarkan negara atau posisi, serta identifikasi pemain muda berbakat dengan potensi pasar yang tinggi. Selain itu, dataset ini dapat digunakan untuk memberikan insight kepada klub mengenai tren posisi yang paling bernilai di pasar saat ini."
      ],
      "metadata": {
        "id": "CG-jNarsnuOB"
      }
    },
    {
      "cell_type": "markdown",
      "source": [
        "### PROJECT PLAN\n",
        "\n",
        "**1. Pengumpulan dan Pembersihan Data**\n",
        "\n",
        "* Mengumpulkan data-data pemain yang dipanggil tim nasional dari\n",
        "Transfermarkt.com\n",
        "* Membersihkan data pemain yang tidak dipanggil tim nasional ataupun nilai yang hilang dan tidak valid\n",
        "\n",
        "\n",
        "\n",
        "**2. Analisis Eksploratif**\n",
        "\n",
        "* Mengubah format data jika diperlukan (misalnya, konversi kategori posisi pemain ke format numerik).\n",
        "* Melakukan eksplorasi awal dengan analisis deskriptif untuk memahami distribusi data (misalnya, rata-rata usia pemain, distribusi posisi, dll.).\n",
        "\n",
        "**3. Modeling & Insight**\n",
        "\n",
        "\n",
        "*   Membangun model prediksi (misalnya regresi atau random forest) untuk menentukan faktor yang memengaruhi nilai pasar pemain.\n",
        "*   Menggunakan teknik clustering (K-Means) untuk mengelompokkan pemain berdasarkan performa dan karakteristik mereka.\n",
        "\n",
        "**4. Dokumentasi & Presentasi Hasil**\n",
        "\n",
        "\n",
        "\n",
        "*   Menyusun laporan dan dashboard interaktif menggunakan alat visualisasi seperti Tableau atau Python.\n",
        "*   Menyampaikan insight dan rekomendasi strategis yang dapat mendukung keputusan bisnis bagi klub dan pemandu bakat.\n",
        "\n"
      ],
      "metadata": {
        "id": "g11cH88foaZU"
      }
    }
  ]
}